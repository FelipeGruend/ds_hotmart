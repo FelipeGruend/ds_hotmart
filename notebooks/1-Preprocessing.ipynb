{
 "cells": [
  {
   "cell_type": "markdown",
   "id": "c9a24709",
   "metadata": {},
   "source": [
    "# Preprocessamento\n",
    "---\n",
    "\n",
    "Este notebook tem o objetivo de realizar o pré-processamento, para verificação de cada uma das _features_. Serão observados valores faltantes, tipos de dado e faixas de valores para as variáveis presentes.\n",
    "\n",
    "No pipeline desenvolvido, este notebook é a segunda parte a ser executada, visto que a primeira foi o script de transformação do arquivo _'sales_data.tsv'_ para o formato parquet, localizado em `scripts/csv_to_parquet.py` na pasta raíz do projeto."
   ]
  },
  {
   "cell_type": "markdown",
   "id": "c3543493",
   "metadata": {},
   "source": [
    "## Importação das bibliotecas necessárias"
   ]
  },
  {
   "cell_type": "code",
   "execution_count": 1,
   "id": "cc689a18",
   "metadata": {},
   "outputs": [],
   "source": [
    "import pandas as pd\n",
    "from datetime import datetime"
   ]
  },
  {
   "cell_type": "markdown",
   "id": "cf1654bf",
   "metadata": {},
   "source": [
    "## Uma primeira primeira impressão dos dados"
   ]
  },
  {
   "cell_type": "markdown",
   "id": "4bc6f4e9",
   "metadata": {},
   "source": [
    "Aqui é feita a leitura do arquivo parquet para verificar, inicialmente, como os dados se parecem."
   ]
  },
  {
   "cell_type": "code",
   "execution_count": 2,
   "id": "a3ed6cfb",
   "metadata": {},
   "outputs": [],
   "source": [
    "df = pd.read_parquet('../data/raw/sales_data.parquet')"
   ]
  },
  {
   "cell_type": "code",
   "execution_count": 3,
   "id": "45c003e5",
   "metadata": {},
   "outputs": [
    {
     "data": {
      "text/plain": [
       "purchase_id                          int64\n",
       "product_id                         float64\n",
       "affiliate_id                       float64\n",
       "producer_id                        float64\n",
       "buyer_id                           float64\n",
       "purchase_date                       object\n",
       "product_creation_date               object\n",
       "product_category                    object\n",
       "product_niche                       object\n",
       "purchase_value                     float64\n",
       "affiliate_commission_percentual    float64\n",
       "purchase_device                     object\n",
       "purchase_origin                     object\n",
       "is_origin_page_social_network       object\n",
       "dtype: object"
      ]
     },
     "execution_count": 3,
     "metadata": {},
     "output_type": "execute_result"
    }
   ],
   "source": [
    "df.dtypes"
   ]
  },
  {
   "cell_type": "code",
   "execution_count": 4,
   "id": "d68a2869",
   "metadata": {},
   "outputs": [
    {
     "data": {
      "text/html": [
       "<div>\n",
       "<style scoped>\n",
       "    .dataframe tbody tr th:only-of-type {\n",
       "        vertical-align: middle;\n",
       "    }\n",
       "\n",
       "    .dataframe tbody tr th {\n",
       "        vertical-align: top;\n",
       "    }\n",
       "\n",
       "    .dataframe thead th {\n",
       "        text-align: right;\n",
       "    }\n",
       "</style>\n",
       "<table border=\"1\" class=\"dataframe\">\n",
       "  <thead>\n",
       "    <tr style=\"text-align: right;\">\n",
       "      <th></th>\n",
       "      <th>purchase_id</th>\n",
       "      <th>product_id</th>\n",
       "      <th>affiliate_id</th>\n",
       "      <th>producer_id</th>\n",
       "      <th>buyer_id</th>\n",
       "      <th>purchase_date</th>\n",
       "      <th>product_creation_date</th>\n",
       "      <th>product_category</th>\n",
       "      <th>product_niche</th>\n",
       "      <th>purchase_value</th>\n",
       "      <th>affiliate_commission_percentual</th>\n",
       "      <th>purchase_device</th>\n",
       "      <th>purchase_origin</th>\n",
       "      <th>is_origin_page_social_network</th>\n",
       "    </tr>\n",
       "  </thead>\n",
       "  <tbody>\n",
       "    <tr>\n",
       "      <th>0</th>\n",
       "      <td>0</td>\n",
       "      <td>NaN</td>\n",
       "      <td>NaN</td>\n",
       "      <td>NaN</td>\n",
       "      <td>NaN</td>\n",
       "      <td>None</td>\n",
       "      <td>None</td>\n",
       "      <td>None</td>\n",
       "      <td>None</td>\n",
       "      <td>NaN</td>\n",
       "      <td>NaN</td>\n",
       "      <td>None</td>\n",
       "      <td>None</td>\n",
       "      <td>0</td>\n",
       "    </tr>\n",
       "    <tr>\n",
       "      <th>1</th>\n",
       "      <td>1663958</td>\n",
       "      <td>6640.0</td>\n",
       "      <td>209372.0</td>\n",
       "      <td>116238.0</td>\n",
       "      <td>1200397.0</td>\n",
       "      <td>2016-06-26 12:00:00</td>\n",
       "      <td>2011-03-19 15:47:36</td>\n",
       "      <td>Video</td>\n",
       "      <td>Presentation skills</td>\n",
       "      <td>-0.265302</td>\n",
       "      <td>50.0</td>\n",
       "      <td>Smart TV</td>\n",
       "      <td>Origin ef2b</td>\n",
       "      <td>0,0</td>\n",
       "    </tr>\n",
       "    <tr>\n",
       "      <th>2</th>\n",
       "      <td>1677087</td>\n",
       "      <td>2350.0</td>\n",
       "      <td>141418.0</td>\n",
       "      <td>2821.0</td>\n",
       "      <td>1083764.0</td>\n",
       "      <td>2016-06-26 12:00:00</td>\n",
       "      <td>2010-07-05 01:50:15</td>\n",
       "      <td>Podcast</td>\n",
       "      <td>Child psychology</td>\n",
       "      <td>-0.177077</td>\n",
       "      <td>60.0</td>\n",
       "      <td>Smart TV</td>\n",
       "      <td>Origin ef2b</td>\n",
       "      <td>0,0</td>\n",
       "    </tr>\n",
       "    <tr>\n",
       "      <th>3</th>\n",
       "      <td>2017360</td>\n",
       "      <td>35669.0</td>\n",
       "      <td>618642.0</td>\n",
       "      <td>618642.0</td>\n",
       "      <td>1436106.0</td>\n",
       "      <td>2016-06-26 12:00:00</td>\n",
       "      <td>2012-06-13 02:59:37</td>\n",
       "      <td>Podcast</td>\n",
       "      <td>Presentation skills</td>\n",
       "      <td>-0.468989</td>\n",
       "      <td>0.0</td>\n",
       "      <td>Smart TV</td>\n",
       "      <td>Origin ef2b</td>\n",
       "      <td>0,0</td>\n",
       "    </tr>\n",
       "    <tr>\n",
       "      <th>4</th>\n",
       "      <td>2017379</td>\n",
       "      <td>57998.0</td>\n",
       "      <td>1164511.0</td>\n",
       "      <td>70388.0</td>\n",
       "      <td>1436118.0</td>\n",
       "      <td>2016-06-26 12:00:00</td>\n",
       "      <td>2013-05-07 08:51:31</td>\n",
       "      <td>Podcast</td>\n",
       "      <td>Anxiety management</td>\n",
       "      <td>-0.401168</td>\n",
       "      <td>50.0</td>\n",
       "      <td>Smart TV</td>\n",
       "      <td>Origin ef2b</td>\n",
       "      <td>0,0</td>\n",
       "    </tr>\n",
       "  </tbody>\n",
       "</table>\n",
       "</div>"
      ],
      "text/plain": [
       "   purchase_id  product_id  affiliate_id  producer_id   buyer_id  \\\n",
       "0            0         NaN           NaN          NaN        NaN   \n",
       "1      1663958      6640.0      209372.0     116238.0  1200397.0   \n",
       "2      1677087      2350.0      141418.0       2821.0  1083764.0   \n",
       "3      2017360     35669.0      618642.0     618642.0  1436106.0   \n",
       "4      2017379     57998.0     1164511.0      70388.0  1436118.0   \n",
       "\n",
       "         purchase_date product_creation_date product_category  \\\n",
       "0                 None                  None             None   \n",
       "1  2016-06-26 12:00:00   2011-03-19 15:47:36            Video   \n",
       "2  2016-06-26 12:00:00   2010-07-05 01:50:15          Podcast   \n",
       "3  2016-06-26 12:00:00   2012-06-13 02:59:37          Podcast   \n",
       "4  2016-06-26 12:00:00   2013-05-07 08:51:31          Podcast   \n",
       "\n",
       "         product_niche  purchase_value  affiliate_commission_percentual  \\\n",
       "0                 None             NaN                              NaN   \n",
       "1  Presentation skills       -0.265302                             50.0   \n",
       "2     Child psychology       -0.177077                             60.0   \n",
       "3  Presentation skills       -0.468989                              0.0   \n",
       "4   Anxiety management       -0.401168                             50.0   \n",
       "\n",
       "  purchase_device purchase_origin is_origin_page_social_network  \n",
       "0            None            None                             0  \n",
       "1        Smart TV     Origin ef2b                           0,0  \n",
       "2        Smart TV     Origin ef2b                           0,0  \n",
       "3        Smart TV     Origin ef2b                           0,0  \n",
       "4        Smart TV     Origin ef2b                           0,0  "
      ]
     },
     "execution_count": 4,
     "metadata": {},
     "output_type": "execute_result"
    }
   ],
   "source": [
    "df.head()"
   ]
  },
  {
   "cell_type": "markdown",
   "id": "9c1062f6",
   "metadata": {},
   "source": [
    "É possível observar que o primeiro registro da tabela tem todos valores inválidos, com _0_ ou _NaN_. Por isso, o mesmo será removido."
   ]
  },
  {
   "cell_type": "code",
   "execution_count": 5,
   "id": "b801aa48",
   "metadata": {},
   "outputs": [],
   "source": [
    "df = df.drop(0, axis=0)"
   ]
  },
  {
   "cell_type": "markdown",
   "id": "1e09561c",
   "metadata": {},
   "source": [
    "A princípio, os últimos registros estão em conformidade:"
   ]
  },
  {
   "cell_type": "code",
   "execution_count": 6,
   "id": "8384e057",
   "metadata": {},
   "outputs": [
    {
     "data": {
      "text/html": [
       "<div>\n",
       "<style scoped>\n",
       "    .dataframe tbody tr th:only-of-type {\n",
       "        vertical-align: middle;\n",
       "    }\n",
       "\n",
       "    .dataframe tbody tr th {\n",
       "        vertical-align: top;\n",
       "    }\n",
       "\n",
       "    .dataframe thead th {\n",
       "        text-align: right;\n",
       "    }\n",
       "</style>\n",
       "<table border=\"1\" class=\"dataframe\">\n",
       "  <thead>\n",
       "    <tr style=\"text-align: right;\">\n",
       "      <th></th>\n",
       "      <th>purchase_id</th>\n",
       "      <th>product_id</th>\n",
       "      <th>affiliate_id</th>\n",
       "      <th>producer_id</th>\n",
       "      <th>buyer_id</th>\n",
       "      <th>purchase_date</th>\n",
       "      <th>product_creation_date</th>\n",
       "      <th>product_category</th>\n",
       "      <th>product_niche</th>\n",
       "      <th>purchase_value</th>\n",
       "      <th>affiliate_commission_percentual</th>\n",
       "      <th>purchase_device</th>\n",
       "      <th>purchase_origin</th>\n",
       "      <th>is_origin_page_social_network</th>\n",
       "    </tr>\n",
       "  </thead>\n",
       "  <tbody>\n",
       "    <tr>\n",
       "      <th>1599824</th>\n",
       "      <td>14011995</td>\n",
       "      <td>238362.0</td>\n",
       "      <td>7586641.0</td>\n",
       "      <td>7586641.0</td>\n",
       "      <td>5736172.0</td>\n",
       "      <td>2016-06-30 23:59:57</td>\n",
       "      <td>2016-06-16 12:10:46</td>\n",
       "      <td>Phisical book</td>\n",
       "      <td>Personal finance</td>\n",
       "      <td>-0.345361</td>\n",
       "      <td>0.0</td>\n",
       "      <td>eReaders</td>\n",
       "      <td>Origin 3022</td>\n",
       "      <td>0,0</td>\n",
       "    </tr>\n",
       "    <tr>\n",
       "      <th>1599825</th>\n",
       "      <td>14012431</td>\n",
       "      <td>61279.0</td>\n",
       "      <td>589022.0</td>\n",
       "      <td>589022.0</td>\n",
       "      <td>946067.0</td>\n",
       "      <td>2016-06-30 21:40:11</td>\n",
       "      <td>2013-06-15 16:41:06</td>\n",
       "      <td>Phisical book</td>\n",
       "      <td>Personal finance</td>\n",
       "      <td>-0.471786</td>\n",
       "      <td>0.0</td>\n",
       "      <td>Smart TV</td>\n",
       "      <td>Origin ef2b</td>\n",
       "      <td>0,0</td>\n",
       "    </tr>\n",
       "    <tr>\n",
       "      <th>1599826</th>\n",
       "      <td>14343996</td>\n",
       "      <td>215242.0</td>\n",
       "      <td>1186145.0</td>\n",
       "      <td>1186145.0</td>\n",
       "      <td>6473172.0</td>\n",
       "      <td>2016-05-13 16:45:42</td>\n",
       "      <td>2016-03-26 17:59:47</td>\n",
       "      <td>Phisical book</td>\n",
       "      <td>Negotiation</td>\n",
       "      <td>-0.359158</td>\n",
       "      <td>0.0</td>\n",
       "      <td>Smart TV</td>\n",
       "      <td>Origin ef2b</td>\n",
       "      <td>0,0</td>\n",
       "    </tr>\n",
       "    <tr>\n",
       "      <th>1599827</th>\n",
       "      <td>14344113</td>\n",
       "      <td>215242.0</td>\n",
       "      <td>1186145.0</td>\n",
       "      <td>1186145.0</td>\n",
       "      <td>6473172.0</td>\n",
       "      <td>2016-06-22 14:39:05</td>\n",
       "      <td>2016-03-26 17:59:47</td>\n",
       "      <td>Phisical book</td>\n",
       "      <td>Negotiation</td>\n",
       "      <td>-0.359158</td>\n",
       "      <td>0.0</td>\n",
       "      <td>Smart TV</td>\n",
       "      <td>Origin ef2b</td>\n",
       "      <td>0,0</td>\n",
       "    </tr>\n",
       "    <tr>\n",
       "      <th>1599828</th>\n",
       "      <td>14357203</td>\n",
       "      <td>215242.0</td>\n",
       "      <td>1186145.0</td>\n",
       "      <td>1186145.0</td>\n",
       "      <td>6473172.0</td>\n",
       "      <td>2016-04-11 19:37:25</td>\n",
       "      <td>2016-03-26 17:59:47</td>\n",
       "      <td>Phisical book</td>\n",
       "      <td>Negotiation</td>\n",
       "      <td>-0.359158</td>\n",
       "      <td>0.0</td>\n",
       "      <td>Tablet</td>\n",
       "      <td>Origin 3fcc</td>\n",
       "      <td>0,0</td>\n",
       "    </tr>\n",
       "  </tbody>\n",
       "</table>\n",
       "</div>"
      ],
      "text/plain": [
       "         purchase_id  product_id  affiliate_id  producer_id   buyer_id  \\\n",
       "1599824     14011995    238362.0     7586641.0    7586641.0  5736172.0   \n",
       "1599825     14012431     61279.0      589022.0     589022.0   946067.0   \n",
       "1599826     14343996    215242.0     1186145.0    1186145.0  6473172.0   \n",
       "1599827     14344113    215242.0     1186145.0    1186145.0  6473172.0   \n",
       "1599828     14357203    215242.0     1186145.0    1186145.0  6473172.0   \n",
       "\n",
       "               purchase_date product_creation_date product_category  \\\n",
       "1599824  2016-06-30 23:59:57   2016-06-16 12:10:46    Phisical book   \n",
       "1599825  2016-06-30 21:40:11   2013-06-15 16:41:06    Phisical book   \n",
       "1599826  2016-05-13 16:45:42   2016-03-26 17:59:47    Phisical book   \n",
       "1599827  2016-06-22 14:39:05   2016-03-26 17:59:47    Phisical book   \n",
       "1599828  2016-04-11 19:37:25   2016-03-26 17:59:47    Phisical book   \n",
       "\n",
       "            product_niche  purchase_value  affiliate_commission_percentual  \\\n",
       "1599824  Personal finance       -0.345361                              0.0   \n",
       "1599825  Personal finance       -0.471786                              0.0   \n",
       "1599826       Negotiation       -0.359158                              0.0   \n",
       "1599827       Negotiation       -0.359158                              0.0   \n",
       "1599828       Negotiation       -0.359158                              0.0   \n",
       "\n",
       "        purchase_device purchase_origin is_origin_page_social_network  \n",
       "1599824        eReaders     Origin 3022                           0,0  \n",
       "1599825        Smart TV     Origin ef2b                           0,0  \n",
       "1599826        Smart TV     Origin ef2b                           0,0  \n",
       "1599827        Smart TV     Origin ef2b                           0,0  \n",
       "1599828          Tablet     Origin 3fcc                           0,0  "
      ]
     },
     "execution_count": 6,
     "metadata": {},
     "output_type": "execute_result"
    }
   ],
   "source": [
    "df.tail()"
   ]
  },
  {
   "cell_type": "markdown",
   "id": "b0d0552e",
   "metadata": {},
   "source": [
    "## Variáveis de identificação (ids)"
   ]
  },
  {
   "cell_type": "markdown",
   "id": "0c8d33e8",
   "metadata": {},
   "source": [
    "O primeiro conjunto de colunas a serem verificadas são as que possuem campos de identificação."
   ]
  },
  {
   "cell_type": "markdown",
   "id": "9ca0d5ae",
   "metadata": {},
   "source": [
    "### Ajuste de tipo"
   ]
  },
  {
   "cell_type": "markdown",
   "id": "9436e3bb",
   "metadata": {},
   "source": [
    "  Como os dados foram salvos em diretamente de uma consulta SQL, é possível que algumas colunas não estejam com a tipagem correta. Esse é o caso de alguns dos campos de identificação (que estão em formato `int` ou `float`), por isso estes serão convertidos em _strings_, visto que servirão apenas para identificar registros e não serão submetidos a nenhum tipo de operação aritmética."
   ]
  },
  {
   "cell_type": "code",
   "execution_count": 7,
   "id": "0a2c8c2d",
   "metadata": {},
   "outputs": [
    {
     "data": {
      "text/plain": [
       "purchase_id       int64\n",
       "product_id      float64\n",
       "affiliate_id    float64\n",
       "producer_id     float64\n",
       "buyer_id        float64\n",
       "dtype: object"
      ]
     },
     "execution_count": 7,
     "metadata": {},
     "output_type": "execute_result"
    }
   ],
   "source": [
    "# selecionando as colunas com '_id'\n",
    "id_columns = [col for col in df.columns if '_id' in col]\n",
    "\n",
    "# visualização dos tipos de dados  encontrados\n",
    "df[id_columns].dtypes"
   ]
  },
  {
   "cell_type": "code",
   "execution_count": 8,
   "id": "109315c8",
   "metadata": {},
   "outputs": [
    {
     "data": {
      "text/plain": [
       "1    1663958\n",
       "2    1677087\n",
       "3    2017360\n",
       "4    2017379\n",
       "5    2017382\n",
       "Name: purchase_id, dtype: object"
      ]
     },
     "execution_count": 8,
     "metadata": {},
     "output_type": "execute_result"
    }
   ],
   "source": [
    "# Como purchase_id está com tipo inteiro, basta converter para string\n",
    "df.loc[:, 'purchase_id'] = df['purchase_id'].astype(str)\n",
    "df['purchase_id'].head()"
   ]
  },
  {
   "cell_type": "code",
   "execution_count": 9,
   "id": "319af274",
   "metadata": {},
   "outputs": [],
   "source": [
    "# Remove da lista o purchase_id, que já foi corrigido\n",
    "id_columns.remove('purchase_id')"
   ]
  },
  {
   "cell_type": "code",
   "execution_count": 10,
   "id": "9c92e644",
   "metadata": {},
   "outputs": [],
   "source": [
    "# Para as outras colunas de identificadores, realiza o ajuste de tipo\n",
    "for id_col in id_columns:\n",
    "    \n",
    "    # Primeiro transforma em inteiro, para remover a parte decimal\n",
    "    df.loc[:, id_col] = df[id_col].astype(int)\n",
    "    \n",
    "    # Depois transforma em string\n",
    "    df.loc[:, id_col] = df[id_col].astype(str)"
   ]
  },
  {
   "cell_type": "code",
   "execution_count": 11,
   "id": "4630c192",
   "metadata": {},
   "outputs": [],
   "source": [
    "# Adiciona o purchase_id, novamente para visualização\n",
    "id_columns.append('purchase_id')"
   ]
  },
  {
   "cell_type": "code",
   "execution_count": 12,
   "id": "4c90bd08",
   "metadata": {},
   "outputs": [
    {
     "data": {
      "text/html": [
       "<div>\n",
       "<style scoped>\n",
       "    .dataframe tbody tr th:only-of-type {\n",
       "        vertical-align: middle;\n",
       "    }\n",
       "\n",
       "    .dataframe tbody tr th {\n",
       "        vertical-align: top;\n",
       "    }\n",
       "\n",
       "    .dataframe thead th {\n",
       "        text-align: right;\n",
       "    }\n",
       "</style>\n",
       "<table border=\"1\" class=\"dataframe\">\n",
       "  <thead>\n",
       "    <tr style=\"text-align: right;\">\n",
       "      <th></th>\n",
       "      <th>product_id</th>\n",
       "      <th>affiliate_id</th>\n",
       "      <th>producer_id</th>\n",
       "      <th>buyer_id</th>\n",
       "      <th>purchase_id</th>\n",
       "    </tr>\n",
       "  </thead>\n",
       "  <tbody>\n",
       "    <tr>\n",
       "      <th>1</th>\n",
       "      <td>6640</td>\n",
       "      <td>209372</td>\n",
       "      <td>116238</td>\n",
       "      <td>1200397</td>\n",
       "      <td>1663958</td>\n",
       "    </tr>\n",
       "    <tr>\n",
       "      <th>2</th>\n",
       "      <td>2350</td>\n",
       "      <td>141418</td>\n",
       "      <td>2821</td>\n",
       "      <td>1083764</td>\n",
       "      <td>1677087</td>\n",
       "    </tr>\n",
       "    <tr>\n",
       "      <th>3</th>\n",
       "      <td>35669</td>\n",
       "      <td>618642</td>\n",
       "      <td>618642</td>\n",
       "      <td>1436106</td>\n",
       "      <td>2017360</td>\n",
       "    </tr>\n",
       "    <tr>\n",
       "      <th>4</th>\n",
       "      <td>57998</td>\n",
       "      <td>1164511</td>\n",
       "      <td>70388</td>\n",
       "      <td>1436118</td>\n",
       "      <td>2017379</td>\n",
       "    </tr>\n",
       "    <tr>\n",
       "      <th>5</th>\n",
       "      <td>58329</td>\n",
       "      <td>1261488</td>\n",
       "      <td>221253</td>\n",
       "      <td>1386357</td>\n",
       "      <td>2017382</td>\n",
       "    </tr>\n",
       "  </tbody>\n",
       "</table>\n",
       "</div>"
      ],
      "text/plain": [
       "  product_id affiliate_id producer_id buyer_id purchase_id\n",
       "1       6640       209372      116238  1200397     1663958\n",
       "2       2350       141418        2821  1083764     1677087\n",
       "3      35669       618642      618642  1436106     2017360\n",
       "4      57998      1164511       70388  1436118     2017379\n",
       "5      58329      1261488      221253  1386357     2017382"
      ]
     },
     "execution_count": 12,
     "metadata": {},
     "output_type": "execute_result"
    }
   ],
   "source": [
    "df[id_columns].head()"
   ]
  },
  {
   "cell_type": "markdown",
   "id": "551ec5d7",
   "metadata": {},
   "source": [
    "Dessa forma, todos campos que se referem a \"id\" ficam com o tipo correto `string` ou `object`, o equivalente no pandas."
   ]
  },
  {
   "cell_type": "code",
   "execution_count": 13,
   "id": "e78801ae",
   "metadata": {},
   "outputs": [
    {
     "data": {
      "text/plain": [
       "product_id      object\n",
       "affiliate_id    object\n",
       "producer_id     object\n",
       "buyer_id        object\n",
       "purchase_id     object\n",
       "dtype: object"
      ]
     },
     "execution_count": 13,
     "metadata": {},
     "output_type": "execute_result"
    }
   ],
   "source": [
    "df[id_columns].dtypes"
   ]
  },
  {
   "cell_type": "markdown",
   "id": "faad28ee",
   "metadata": {},
   "source": [
    "### Checagem de valores faltantes"
   ]
  },
  {
   "cell_type": "code",
   "execution_count": 14,
   "id": "f7748c75",
   "metadata": {},
   "outputs": [],
   "source": [
    "'''\n",
    "Função que conta o número de valores faltantes,\n",
    "dada uma coluna do DataFrame.\n",
    "'''\n",
    "def check_nan(column):\n",
    "    \n",
    "    total_nan = df[column].isna().sum()\n",
    "    \n",
    "    if total_nan == 0:\n",
    "        perc_nan = 0\n",
    "    else:\n",
    "        perc_nan = df.shape[0] / total_nan\n",
    "    \n",
    "    \n",
    "    print(\"Coluna:\", column)\n",
    "    print(\"Total valores inválidos:\", total_nan)\n",
    "    print(\"Percentual de valores inválidos:{:.1f}%\\n\".format(perc_nan*100))"
   ]
  },
  {
   "cell_type": "markdown",
   "id": "475c756c",
   "metadata": {},
   "source": [
    "Os campos identificadores não possuem nenhum valor faltante, como pode ser conferido abaixo:"
   ]
  },
  {
   "cell_type": "code",
   "execution_count": 15,
   "id": "44a374b9",
   "metadata": {},
   "outputs": [
    {
     "name": "stdout",
     "output_type": "stream",
     "text": [
      "Coluna: product_id\n",
      "Total valores inválidos: 0\n",
      "Percentual de valores inválidos:0.0%\n",
      "\n",
      "Coluna: affiliate_id\n",
      "Total valores inválidos: 0\n",
      "Percentual de valores inválidos:0.0%\n",
      "\n",
      "Coluna: producer_id\n",
      "Total valores inválidos: 0\n",
      "Percentual de valores inválidos:0.0%\n",
      "\n",
      "Coluna: buyer_id\n",
      "Total valores inválidos: 0\n",
      "Percentual de valores inválidos:0.0%\n",
      "\n",
      "Coluna: purchase_id\n",
      "Total valores inválidos: 0\n",
      "Percentual de valores inválidos:0.0%\n",
      "\n"
     ]
    }
   ],
   "source": [
    "for id_col in id_columns:\n",
    "    check_nan(id_col)"
   ]
  },
  {
   "cell_type": "markdown",
   "id": "10df2bd1",
   "metadata": {},
   "source": [
    "## Variáveis de data"
   ]
  },
  {
   "cell_type": "markdown",
   "id": "0b9e445e",
   "metadata": {},
   "source": [
    "### Ajuste de tipo"
   ]
  },
  {
   "cell_type": "markdown",
   "id": "d7b16ae1",
   "metadata": {},
   "source": [
    "Nesta etapa serão verificados aqueles dados que tem o tipo data.\n",
    "\n",
    "Inicialmente, já podemos verificar que os dados estão com o tipo errado (`object`)."
   ]
  },
  {
   "cell_type": "code",
   "execution_count": 16,
   "id": "cefc4f44",
   "metadata": {},
   "outputs": [
    {
     "data": {
      "text/plain": [
       "purchase_date            object\n",
       "product_creation_date    object\n",
       "dtype: object"
      ]
     },
     "execution_count": 16,
     "metadata": {},
     "output_type": "execute_result"
    }
   ],
   "source": [
    "# selecionando as colunas com '_date'\n",
    "date_columns = [col for col in df.columns if '_date' in col]\n",
    "\n",
    "# visualização dos tipos de dados  encontrados\n",
    "df[date_columns].dtypes"
   ]
  },
  {
   "cell_type": "markdown",
   "id": "70f60e8e",
   "metadata": {},
   "source": [
    "Para converter para o tipo `datetime`, primeiro é preciso verificar o formato em que a data está organizada. O formato utilizado é `Y-m-d H:M:S`, portanto será definida a função `to_datetime()`para conversão usando esse formato."
   ]
  },
  {
   "cell_type": "code",
   "execution_count": 17,
   "id": "cd38b120",
   "metadata": {},
   "outputs": [
    {
     "data": {
      "text/html": [
       "<div>\n",
       "<style scoped>\n",
       "    .dataframe tbody tr th:only-of-type {\n",
       "        vertical-align: middle;\n",
       "    }\n",
       "\n",
       "    .dataframe tbody tr th {\n",
       "        vertical-align: top;\n",
       "    }\n",
       "\n",
       "    .dataframe thead th {\n",
       "        text-align: right;\n",
       "    }\n",
       "</style>\n",
       "<table border=\"1\" class=\"dataframe\">\n",
       "  <thead>\n",
       "    <tr style=\"text-align: right;\">\n",
       "      <th></th>\n",
       "      <th>purchase_date</th>\n",
       "      <th>product_creation_date</th>\n",
       "    </tr>\n",
       "  </thead>\n",
       "  <tbody>\n",
       "    <tr>\n",
       "      <th>1</th>\n",
       "      <td>2016-06-26 12:00:00</td>\n",
       "      <td>2011-03-19 15:47:36</td>\n",
       "    </tr>\n",
       "    <tr>\n",
       "      <th>2</th>\n",
       "      <td>2016-06-26 12:00:00</td>\n",
       "      <td>2010-07-05 01:50:15</td>\n",
       "    </tr>\n",
       "    <tr>\n",
       "      <th>3</th>\n",
       "      <td>2016-06-26 12:00:00</td>\n",
       "      <td>2012-06-13 02:59:37</td>\n",
       "    </tr>\n",
       "    <tr>\n",
       "      <th>4</th>\n",
       "      <td>2016-06-26 12:00:00</td>\n",
       "      <td>2013-05-07 08:51:31</td>\n",
       "    </tr>\n",
       "    <tr>\n",
       "      <th>5</th>\n",
       "      <td>2016-06-26 12:00:00</td>\n",
       "      <td>2013-05-12 08:12:06</td>\n",
       "    </tr>\n",
       "  </tbody>\n",
       "</table>\n",
       "</div>"
      ],
      "text/plain": [
       "         purchase_date product_creation_date\n",
       "1  2016-06-26 12:00:00   2011-03-19 15:47:36\n",
       "2  2016-06-26 12:00:00   2010-07-05 01:50:15\n",
       "3  2016-06-26 12:00:00   2012-06-13 02:59:37\n",
       "4  2016-06-26 12:00:00   2013-05-07 08:51:31\n",
       "5  2016-06-26 12:00:00   2013-05-12 08:12:06"
      ]
     },
     "execution_count": 17,
     "metadata": {},
     "output_type": "execute_result"
    }
   ],
   "source": [
    "df[date_columns].head()"
   ]
  },
  {
   "cell_type": "code",
   "execution_count": 18,
   "id": "6116ebe0",
   "metadata": {},
   "outputs": [],
   "source": [
    "def to_datetime(str_date):\n",
    "    \"\"\"\n",
    "    Retorna str_date no formato datetime.\n",
    "\n",
    "    Argumentos:\n",
    "    str_date -- string no formato %Y-%m-%d %H:%M:%S a ser convertida\n",
    "    \"\"\"\n",
    "    return datetime.strptime(str_date, '%Y-%m-%d %H:%M:%S')"
   ]
  },
  {
   "cell_type": "markdown",
   "id": "09aef53f",
   "metadata": {},
   "source": [
    "Após essa definição, é necessário aplicar a função às colunas com data (`purchase_date` e `product_creation_date`)"
   ]
  },
  {
   "cell_type": "code",
   "execution_count": 19,
   "id": "e536dc46",
   "metadata": {},
   "outputs": [],
   "source": [
    "# Para as colunas de datas, realiza o ajuste de tipo\n",
    "for date_col in date_columns:\n",
    "    \n",
    "    # Transformação da coluna para o tipo data\n",
    "    df.loc[:, date_col] = df[date_col].apply(to_datetime)"
   ]
  },
  {
   "cell_type": "markdown",
   "id": "9665bf49",
   "metadata": {},
   "source": [
    "Verifica-se que o tipo está correto."
   ]
  },
  {
   "cell_type": "code",
   "execution_count": 20,
   "id": "5dfc8346",
   "metadata": {},
   "outputs": [
    {
     "data": {
      "text/html": [
       "<div>\n",
       "<style scoped>\n",
       "    .dataframe tbody tr th:only-of-type {\n",
       "        vertical-align: middle;\n",
       "    }\n",
       "\n",
       "    .dataframe tbody tr th {\n",
       "        vertical-align: top;\n",
       "    }\n",
       "\n",
       "    .dataframe thead th {\n",
       "        text-align: right;\n",
       "    }\n",
       "</style>\n",
       "<table border=\"1\" class=\"dataframe\">\n",
       "  <thead>\n",
       "    <tr style=\"text-align: right;\">\n",
       "      <th></th>\n",
       "      <th>purchase_date</th>\n",
       "      <th>product_creation_date</th>\n",
       "    </tr>\n",
       "  </thead>\n",
       "  <tbody>\n",
       "    <tr>\n",
       "      <th>1</th>\n",
       "      <td>2016-06-26 12:00:00</td>\n",
       "      <td>2011-03-19 15:47:36</td>\n",
       "    </tr>\n",
       "    <tr>\n",
       "      <th>2</th>\n",
       "      <td>2016-06-26 12:00:00</td>\n",
       "      <td>2010-07-05 01:50:15</td>\n",
       "    </tr>\n",
       "    <tr>\n",
       "      <th>3</th>\n",
       "      <td>2016-06-26 12:00:00</td>\n",
       "      <td>2012-06-13 02:59:37</td>\n",
       "    </tr>\n",
       "    <tr>\n",
       "      <th>4</th>\n",
       "      <td>2016-06-26 12:00:00</td>\n",
       "      <td>2013-05-07 08:51:31</td>\n",
       "    </tr>\n",
       "    <tr>\n",
       "      <th>5</th>\n",
       "      <td>2016-06-26 12:00:00</td>\n",
       "      <td>2013-05-12 08:12:06</td>\n",
       "    </tr>\n",
       "  </tbody>\n",
       "</table>\n",
       "</div>"
      ],
      "text/plain": [
       "        purchase_date product_creation_date\n",
       "1 2016-06-26 12:00:00   2011-03-19 15:47:36\n",
       "2 2016-06-26 12:00:00   2010-07-05 01:50:15\n",
       "3 2016-06-26 12:00:00   2012-06-13 02:59:37\n",
       "4 2016-06-26 12:00:00   2013-05-07 08:51:31\n",
       "5 2016-06-26 12:00:00   2013-05-12 08:12:06"
      ]
     },
     "execution_count": 20,
     "metadata": {},
     "output_type": "execute_result"
    }
   ],
   "source": [
    "df[date_columns].head()"
   ]
  },
  {
   "cell_type": "code",
   "execution_count": 21,
   "id": "1a9b0aa3",
   "metadata": {},
   "outputs": [
    {
     "data": {
      "text/plain": [
       "purchase_date            datetime64[ns]\n",
       "product_creation_date    datetime64[ns]\n",
       "dtype: object"
      ]
     },
     "execution_count": 21,
     "metadata": {},
     "output_type": "execute_result"
    }
   ],
   "source": [
    "df[date_columns].dtypes"
   ]
  },
  {
   "cell_type": "markdown",
   "id": "a388d733",
   "metadata": {},
   "source": [
    "### Checagem de valores faltantes"
   ]
  },
  {
   "cell_type": "markdown",
   "id": "80b8b155",
   "metadata": {},
   "source": [
    "Todos os campos de data estão preenchidos com valores válidos."
   ]
  },
  {
   "cell_type": "code",
   "execution_count": 22,
   "id": "ab294559",
   "metadata": {},
   "outputs": [
    {
     "name": "stdout",
     "output_type": "stream",
     "text": [
      "Coluna: purchase_date\n",
      "Total valores inválidos: 0\n",
      "Percentual de valores inválidos:0.0%\n",
      "\n",
      "Coluna: product_creation_date\n",
      "Total valores inválidos: 0\n",
      "Percentual de valores inválidos:0.0%\n",
      "\n"
     ]
    }
   ],
   "source": [
    "for date_col in date_columns:\n",
    "    check_nan(date_col)"
   ]
  },
  {
   "cell_type": "markdown",
   "id": "f0bf7477",
   "metadata": {},
   "source": [
    "## Variáveis categóricas"
   ]
  },
  {
   "cell_type": "markdown",
   "id": "759f04d0",
   "metadata": {},
   "source": [
    "Vamos considerar como variáveis categóricas aquelas que possuem um número finito de valores possíveis, que não servem como _id_ e que podem ser vistos como categorias ou classes."
   ]
  },
  {
   "cell_type": "code",
   "execution_count": 23,
   "id": "fed8a5b7",
   "metadata": {},
   "outputs": [],
   "source": [
    "cat_columns =  [\n",
    "    'product_category',\n",
    "    'product_niche',\n",
    "    'purchase_device',\n",
    "    'purchase_origin',\n",
    "    'is_origin_page_social_network'\n",
    "]"
   ]
  },
  {
   "cell_type": "markdown",
   "id": "54d74702",
   "metadata": {},
   "source": [
    "### Checagem de valores faltantes"
   ]
  },
  {
   "cell_type": "markdown",
   "id": "dd7b05d9",
   "metadata": {},
   "source": [
    "Nenhuma das colunas possuem lacunas nos valores."
   ]
  },
  {
   "cell_type": "code",
   "execution_count": 24,
   "id": "8b5b319c",
   "metadata": {},
   "outputs": [
    {
     "name": "stdout",
     "output_type": "stream",
     "text": [
      "Coluna: product_category\n",
      "Total valores inválidos: 0\n",
      "Percentual de valores inválidos:0.0%\n",
      "\n",
      "Coluna: product_niche\n",
      "Total valores inválidos: 0\n",
      "Percentual de valores inválidos:0.0%\n",
      "\n",
      "Coluna: purchase_device\n",
      "Total valores inválidos: 0\n",
      "Percentual de valores inválidos:0.0%\n",
      "\n",
      "Coluna: purchase_origin\n",
      "Total valores inválidos: 0\n",
      "Percentual de valores inválidos:0.0%\n",
      "\n",
      "Coluna: is_origin_page_social_network\n",
      "Total valores inválidos: 0\n",
      "Percentual de valores inválidos:0.0%\n",
      "\n"
     ]
    }
   ],
   "source": [
    "for cat_col in cat_columns:\n",
    "    check_nan(cat_col)"
   ]
  },
  {
   "cell_type": "markdown",
   "id": "6f988bbc",
   "metadata": {},
   "source": [
    "### Ajuste de tipo"
   ]
  },
  {
   "cell_type": "markdown",
   "id": "55d482cc",
   "metadata": {},
   "source": [
    "A princípio, todas variáveis categóricas estão com o tipo correto."
   ]
  },
  {
   "cell_type": "code",
   "execution_count": 25,
   "id": "34e09008",
   "metadata": {},
   "outputs": [
    {
     "data": {
      "text/plain": [
       "product_category                 object\n",
       "product_niche                    object\n",
       "purchase_device                  object\n",
       "purchase_origin                  object\n",
       "is_origin_page_social_network    object\n",
       "dtype: object"
      ]
     },
     "execution_count": 25,
     "metadata": {},
     "output_type": "execute_result"
    }
   ],
   "source": [
    "df[cat_columns].dtypes"
   ]
  },
  {
   "cell_type": "markdown",
   "id": "65de10fa",
   "metadata": {},
   "source": [
    "Além disso, também é importante ver quais os valores possíveis para cada coluna."
   ]
  },
  {
   "cell_type": "code",
   "execution_count": 26,
   "id": "ba5a222b",
   "metadata": {},
   "outputs": [
    {
     "name": "stdout",
     "output_type": "stream",
     "text": [
      "product_category\n",
      "['Video' 'Podcast' 'Phisical book' 'eBook' 'In-class course' 'Workshop'\n",
      " 'Webinar' 'eTicket' 'Subscription' 'App']\n",
      "product_niche\n",
      "['Presentation skills' 'Child psychology' 'Anxiety management'\n",
      " 'Teaching English' 'Online course creation' 'Media training'\n",
      " 'Storytelling' 'YouTube video creation' 'Procrastination' 'Organization'\n",
      " 'Negotiation' 'Careers' 'Personal finance' 'Filmmaking' 'Government'\n",
      " 'Global diplomacy' 'Immigration' 'Economics' 'Accounting' 'Biology'\n",
      " 'Physics' 'Genetics' 'Disease' 'Thermodynamics' 'Travel hacking']\n",
      "purchase_device\n",
      "['Smart TV' 'Tablet' 'Desktop' 'eReaders' 'Cellphone']\n",
      "purchase_origin\n",
      "['Origin ef2b' 'Origin 3fcc' 'Origin 5187' ... 'Origin 6530' 'Origin fe8e'\n",
      " 'Origin 290d']\n",
      "is_origin_page_social_network\n",
      "['0,0' '1,0']\n"
     ]
    }
   ],
   "source": [
    "for cat_col in cat_columns:\n",
    "    print(cat_col)\n",
    "    print(df[cat_col].unique())"
   ]
  },
  {
   "cell_type": "markdown",
   "id": "46f481a8",
   "metadata": {},
   "source": [
    "É possível observar que `is_origin_page_social_network` se trata de uma variável binária, então seus valores poderiam ser convertidos em _0_ ou _1_', invés de '0,0' eou '1,0'."
   ]
  },
  {
   "cell_type": "code",
   "execution_count": 27,
   "id": "bd1a542f",
   "metadata": {},
   "outputs": [
    {
     "data": {
      "text/plain": [
       "array([0, 1])"
      ]
     },
     "execution_count": 27,
     "metadata": {},
     "output_type": "execute_result"
    }
   ],
   "source": [
    "df.loc[:, 'is_origin_page_social_network'] = df['is_origin_page_social_network'].str.replace('0,0', '0')\n",
    "df.loc[:, 'is_origin_page_social_network'] = df['is_origin_page_social_network'].str.replace('1,0', '1')\n",
    "df.loc[:, 'is_origin_page_social_network'] = df['is_origin_page_social_network'].astype(int)\n",
    "df['is_origin_page_social_network'].unique()"
   ]
  },
  {
   "cell_type": "markdown",
   "id": "2e869410",
   "metadata": {},
   "source": [
    "## Variáveis numéricas"
   ]
  },
  {
   "cell_type": "markdown",
   "id": "a4f99a32",
   "metadata": {},
   "source": [
    "As últimas variáveis a serem analisadas serão as duas variáveis numéricas, as quais dizem respeito ao valor da compra e o percentual de comissão do afiliado, `purchase_value` e `affiliate_commission_percentual`, respectivamente."
   ]
  },
  {
   "cell_type": "code",
   "execution_count": 28,
   "id": "37e048be",
   "metadata": {},
   "outputs": [],
   "source": [
    "num_columns = ['purchase_value', 'affiliate_commission_percentual']"
   ]
  },
  {
   "cell_type": "markdown",
   "id": "fdcca24a",
   "metadata": {},
   "source": [
    "### Checagem de valores faltantes"
   ]
  },
  {
   "cell_type": "markdown",
   "id": "745fb5ba",
   "metadata": {},
   "source": [
    "Nenhum valor faltante."
   ]
  },
  {
   "cell_type": "code",
   "execution_count": 29,
   "id": "9e0bab57",
   "metadata": {},
   "outputs": [
    {
     "name": "stdout",
     "output_type": "stream",
     "text": [
      "Coluna: purchase_value\n",
      "Total valores inválidos: 0\n",
      "Percentual de valores inválidos:0.0%\n",
      "\n",
      "Coluna: affiliate_commission_percentual\n",
      "Total valores inválidos: 0\n",
      "Percentual de valores inválidos:0.0%\n",
      "\n"
     ]
    }
   ],
   "source": [
    "for num_col in num_columns:\n",
    "    check_nan(num_col)"
   ]
  },
  {
   "cell_type": "markdown",
   "id": "075f6a6d",
   "metadata": {},
   "source": [
    "### Ajuste de tipo"
   ]
  },
  {
   "cell_type": "markdown",
   "id": "98549c13",
   "metadata": {},
   "source": [
    "Ambas colunas estão com o tipo correto `float`."
   ]
  },
  {
   "cell_type": "code",
   "execution_count": 30,
   "id": "cf63d5b9",
   "metadata": {},
   "outputs": [
    {
     "data": {
      "text/plain": [
       "purchase_value                     float64\n",
       "affiliate_commission_percentual    float64\n",
       "dtype: object"
      ]
     },
     "execution_count": 30,
     "metadata": {},
     "output_type": "execute_result"
    }
   ],
   "source": [
    "df[num_columns].dtypes"
   ]
  },
  {
   "cell_type": "markdown",
   "id": "ee531b1e",
   "metadata": {},
   "source": [
    "## Extensão de variáveis"
   ]
  },
  {
   "cell_type": "markdown",
   "id": "908e4c7e",
   "metadata": {},
   "source": [
    "Uma das ténicas de pré-processamento utilizada nas áreas de Aprendizado de Máquina e Ciência de Dados é criar novas _features_ a partir do conjunto de dados original. Portanto, nesta etapa serão adicionadas algumas colunas para facilitar futuros processamentos."
   ]
  },
  {
   "cell_type": "markdown",
   "id": "3377492a",
   "metadata": {},
   "source": [
    "### Compra com afiliado"
   ]
  },
  {
   "cell_type": "markdown",
   "id": "abb9441a",
   "metadata": {},
   "source": [
    "Criação de uma nova coluna para verificar mais rapidamente se a compra foi feita por intermédio de um afiliado ou não.  Assim, a nova coluna `is_affliate_purchase` será `1` quando a compra tiver sido feita por meio de afiliado e `0` caso contrário."
   ]
  },
  {
   "cell_type": "code",
   "execution_count": 31,
   "id": "47b65340",
   "metadata": {},
   "outputs": [],
   "source": [
    "# Pega os índices em que o id do produtor é igual ao do afiliado e o percentual de comissão é zero\n",
    "affiliate_purchases_indexes = df[(df['producer_id'] == df['affiliate_id']) &\n",
    "                                 (df['affiliate_commission_percentual'] == 0)].index"
   ]
  },
  {
   "cell_type": "code",
   "execution_count": 32,
   "id": "38737cd7",
   "metadata": {},
   "outputs": [],
   "source": [
    "# Cria uma coluna, inicialmente, com toda compra setada com afiliado\n",
    "df['is_affliate_purchase'] = 1\n",
    "\n",
    "# Atualiza as compras sem afiliados, com zero\n",
    "df.loc[affiliate_purchases_indexes, 'is_affliate_purchase'] = 0"
   ]
  },
  {
   "cell_type": "code",
   "execution_count": 33,
   "id": "5cb742e0",
   "metadata": {},
   "outputs": [
    {
     "data": {
      "text/html": [
       "<div>\n",
       "<style scoped>\n",
       "    .dataframe tbody tr th:only-of-type {\n",
       "        vertical-align: middle;\n",
       "    }\n",
       "\n",
       "    .dataframe tbody tr th {\n",
       "        vertical-align: top;\n",
       "    }\n",
       "\n",
       "    .dataframe thead th {\n",
       "        text-align: right;\n",
       "    }\n",
       "</style>\n",
       "<table border=\"1\" class=\"dataframe\">\n",
       "  <thead>\n",
       "    <tr style=\"text-align: right;\">\n",
       "      <th></th>\n",
       "      <th>purchase_id</th>\n",
       "      <th>product_id</th>\n",
       "      <th>affiliate_id</th>\n",
       "      <th>producer_id</th>\n",
       "      <th>buyer_id</th>\n",
       "      <th>purchase_date</th>\n",
       "      <th>product_creation_date</th>\n",
       "      <th>product_category</th>\n",
       "      <th>product_niche</th>\n",
       "      <th>purchase_value</th>\n",
       "      <th>affiliate_commission_percentual</th>\n",
       "      <th>purchase_device</th>\n",
       "      <th>purchase_origin</th>\n",
       "      <th>is_origin_page_social_network</th>\n",
       "      <th>is_affliate_purchase</th>\n",
       "    </tr>\n",
       "  </thead>\n",
       "  <tbody>\n",
       "    <tr>\n",
       "      <th>1</th>\n",
       "      <td>1663958</td>\n",
       "      <td>6640</td>\n",
       "      <td>209372</td>\n",
       "      <td>116238</td>\n",
       "      <td>1200397</td>\n",
       "      <td>2016-06-26 12:00:00</td>\n",
       "      <td>2011-03-19 15:47:36</td>\n",
       "      <td>Video</td>\n",
       "      <td>Presentation skills</td>\n",
       "      <td>-0.265302</td>\n",
       "      <td>50.0</td>\n",
       "      <td>Smart TV</td>\n",
       "      <td>Origin ef2b</td>\n",
       "      <td>0</td>\n",
       "      <td>1</td>\n",
       "    </tr>\n",
       "    <tr>\n",
       "      <th>2</th>\n",
       "      <td>1677087</td>\n",
       "      <td>2350</td>\n",
       "      <td>141418</td>\n",
       "      <td>2821</td>\n",
       "      <td>1083764</td>\n",
       "      <td>2016-06-26 12:00:00</td>\n",
       "      <td>2010-07-05 01:50:15</td>\n",
       "      <td>Podcast</td>\n",
       "      <td>Child psychology</td>\n",
       "      <td>-0.177077</td>\n",
       "      <td>60.0</td>\n",
       "      <td>Smart TV</td>\n",
       "      <td>Origin ef2b</td>\n",
       "      <td>0</td>\n",
       "      <td>1</td>\n",
       "    </tr>\n",
       "    <tr>\n",
       "      <th>3</th>\n",
       "      <td>2017360</td>\n",
       "      <td>35669</td>\n",
       "      <td>618642</td>\n",
       "      <td>618642</td>\n",
       "      <td>1436106</td>\n",
       "      <td>2016-06-26 12:00:00</td>\n",
       "      <td>2012-06-13 02:59:37</td>\n",
       "      <td>Podcast</td>\n",
       "      <td>Presentation skills</td>\n",
       "      <td>-0.468989</td>\n",
       "      <td>0.0</td>\n",
       "      <td>Smart TV</td>\n",
       "      <td>Origin ef2b</td>\n",
       "      <td>0</td>\n",
       "      <td>0</td>\n",
       "    </tr>\n",
       "    <tr>\n",
       "      <th>4</th>\n",
       "      <td>2017379</td>\n",
       "      <td>57998</td>\n",
       "      <td>1164511</td>\n",
       "      <td>70388</td>\n",
       "      <td>1436118</td>\n",
       "      <td>2016-06-26 12:00:00</td>\n",
       "      <td>2013-05-07 08:51:31</td>\n",
       "      <td>Podcast</td>\n",
       "      <td>Anxiety management</td>\n",
       "      <td>-0.401168</td>\n",
       "      <td>50.0</td>\n",
       "      <td>Smart TV</td>\n",
       "      <td>Origin ef2b</td>\n",
       "      <td>0</td>\n",
       "      <td>1</td>\n",
       "    </tr>\n",
       "    <tr>\n",
       "      <th>5</th>\n",
       "      <td>2017382</td>\n",
       "      <td>58329</td>\n",
       "      <td>1261488</td>\n",
       "      <td>221253</td>\n",
       "      <td>1386357</td>\n",
       "      <td>2016-06-26 12:00:00</td>\n",
       "      <td>2013-05-12 08:12:06</td>\n",
       "      <td>Podcast</td>\n",
       "      <td>Teaching English</td>\n",
       "      <td>-0.452489</td>\n",
       "      <td>50.0</td>\n",
       "      <td>Smart TV</td>\n",
       "      <td>Origin ef2b</td>\n",
       "      <td>0</td>\n",
       "      <td>1</td>\n",
       "    </tr>\n",
       "    <tr>\n",
       "      <th>...</th>\n",
       "      <td>...</td>\n",
       "      <td>...</td>\n",
       "      <td>...</td>\n",
       "      <td>...</td>\n",
       "      <td>...</td>\n",
       "      <td>...</td>\n",
       "      <td>...</td>\n",
       "      <td>...</td>\n",
       "      <td>...</td>\n",
       "      <td>...</td>\n",
       "      <td>...</td>\n",
       "      <td>...</td>\n",
       "      <td>...</td>\n",
       "      <td>...</td>\n",
       "      <td>...</td>\n",
       "    </tr>\n",
       "    <tr>\n",
       "      <th>1599824</th>\n",
       "      <td>14011995</td>\n",
       "      <td>238362</td>\n",
       "      <td>7586641</td>\n",
       "      <td>7586641</td>\n",
       "      <td>5736172</td>\n",
       "      <td>2016-06-30 23:59:57</td>\n",
       "      <td>2016-06-16 12:10:46</td>\n",
       "      <td>Phisical book</td>\n",
       "      <td>Personal finance</td>\n",
       "      <td>-0.345361</td>\n",
       "      <td>0.0</td>\n",
       "      <td>eReaders</td>\n",
       "      <td>Origin 3022</td>\n",
       "      <td>0</td>\n",
       "      <td>0</td>\n",
       "    </tr>\n",
       "    <tr>\n",
       "      <th>1599825</th>\n",
       "      <td>14012431</td>\n",
       "      <td>61279</td>\n",
       "      <td>589022</td>\n",
       "      <td>589022</td>\n",
       "      <td>946067</td>\n",
       "      <td>2016-06-30 21:40:11</td>\n",
       "      <td>2013-06-15 16:41:06</td>\n",
       "      <td>Phisical book</td>\n",
       "      <td>Personal finance</td>\n",
       "      <td>-0.471786</td>\n",
       "      <td>0.0</td>\n",
       "      <td>Smart TV</td>\n",
       "      <td>Origin ef2b</td>\n",
       "      <td>0</td>\n",
       "      <td>0</td>\n",
       "    </tr>\n",
       "    <tr>\n",
       "      <th>1599826</th>\n",
       "      <td>14343996</td>\n",
       "      <td>215242</td>\n",
       "      <td>1186145</td>\n",
       "      <td>1186145</td>\n",
       "      <td>6473172</td>\n",
       "      <td>2016-05-13 16:45:42</td>\n",
       "      <td>2016-03-26 17:59:47</td>\n",
       "      <td>Phisical book</td>\n",
       "      <td>Negotiation</td>\n",
       "      <td>-0.359158</td>\n",
       "      <td>0.0</td>\n",
       "      <td>Smart TV</td>\n",
       "      <td>Origin ef2b</td>\n",
       "      <td>0</td>\n",
       "      <td>0</td>\n",
       "    </tr>\n",
       "    <tr>\n",
       "      <th>1599827</th>\n",
       "      <td>14344113</td>\n",
       "      <td>215242</td>\n",
       "      <td>1186145</td>\n",
       "      <td>1186145</td>\n",
       "      <td>6473172</td>\n",
       "      <td>2016-06-22 14:39:05</td>\n",
       "      <td>2016-03-26 17:59:47</td>\n",
       "      <td>Phisical book</td>\n",
       "      <td>Negotiation</td>\n",
       "      <td>-0.359158</td>\n",
       "      <td>0.0</td>\n",
       "      <td>Smart TV</td>\n",
       "      <td>Origin ef2b</td>\n",
       "      <td>0</td>\n",
       "      <td>0</td>\n",
       "    </tr>\n",
       "    <tr>\n",
       "      <th>1599828</th>\n",
       "      <td>14357203</td>\n",
       "      <td>215242</td>\n",
       "      <td>1186145</td>\n",
       "      <td>1186145</td>\n",
       "      <td>6473172</td>\n",
       "      <td>2016-04-11 19:37:25</td>\n",
       "      <td>2016-03-26 17:59:47</td>\n",
       "      <td>Phisical book</td>\n",
       "      <td>Negotiation</td>\n",
       "      <td>-0.359158</td>\n",
       "      <td>0.0</td>\n",
       "      <td>Tablet</td>\n",
       "      <td>Origin 3fcc</td>\n",
       "      <td>0</td>\n",
       "      <td>0</td>\n",
       "    </tr>\n",
       "  </tbody>\n",
       "</table>\n",
       "<p>1599828 rows × 15 columns</p>\n",
       "</div>"
      ],
      "text/plain": [
       "        purchase_id product_id affiliate_id producer_id buyer_id  \\\n",
       "1           1663958       6640       209372      116238  1200397   \n",
       "2           1677087       2350       141418        2821  1083764   \n",
       "3           2017360      35669       618642      618642  1436106   \n",
       "4           2017379      57998      1164511       70388  1436118   \n",
       "5           2017382      58329      1261488      221253  1386357   \n",
       "...             ...        ...          ...         ...      ...   \n",
       "1599824    14011995     238362      7586641     7586641  5736172   \n",
       "1599825    14012431      61279       589022      589022   946067   \n",
       "1599826    14343996     215242      1186145     1186145  6473172   \n",
       "1599827    14344113     215242      1186145     1186145  6473172   \n",
       "1599828    14357203     215242      1186145     1186145  6473172   \n",
       "\n",
       "              purchase_date product_creation_date product_category  \\\n",
       "1       2016-06-26 12:00:00   2011-03-19 15:47:36            Video   \n",
       "2       2016-06-26 12:00:00   2010-07-05 01:50:15          Podcast   \n",
       "3       2016-06-26 12:00:00   2012-06-13 02:59:37          Podcast   \n",
       "4       2016-06-26 12:00:00   2013-05-07 08:51:31          Podcast   \n",
       "5       2016-06-26 12:00:00   2013-05-12 08:12:06          Podcast   \n",
       "...                     ...                   ...              ...   \n",
       "1599824 2016-06-30 23:59:57   2016-06-16 12:10:46    Phisical book   \n",
       "1599825 2016-06-30 21:40:11   2013-06-15 16:41:06    Phisical book   \n",
       "1599826 2016-05-13 16:45:42   2016-03-26 17:59:47    Phisical book   \n",
       "1599827 2016-06-22 14:39:05   2016-03-26 17:59:47    Phisical book   \n",
       "1599828 2016-04-11 19:37:25   2016-03-26 17:59:47    Phisical book   \n",
       "\n",
       "               product_niche  purchase_value  affiliate_commission_percentual  \\\n",
       "1        Presentation skills       -0.265302                             50.0   \n",
       "2           Child psychology       -0.177077                             60.0   \n",
       "3        Presentation skills       -0.468989                              0.0   \n",
       "4         Anxiety management       -0.401168                             50.0   \n",
       "5           Teaching English       -0.452489                             50.0   \n",
       "...                      ...             ...                              ...   \n",
       "1599824     Personal finance       -0.345361                              0.0   \n",
       "1599825     Personal finance       -0.471786                              0.0   \n",
       "1599826          Negotiation       -0.359158                              0.0   \n",
       "1599827          Negotiation       -0.359158                              0.0   \n",
       "1599828          Negotiation       -0.359158                              0.0   \n",
       "\n",
       "        purchase_device purchase_origin  is_origin_page_social_network  \\\n",
       "1              Smart TV     Origin ef2b                              0   \n",
       "2              Smart TV     Origin ef2b                              0   \n",
       "3              Smart TV     Origin ef2b                              0   \n",
       "4              Smart TV     Origin ef2b                              0   \n",
       "5              Smart TV     Origin ef2b                              0   \n",
       "...                 ...             ...                            ...   \n",
       "1599824        eReaders     Origin 3022                              0   \n",
       "1599825        Smart TV     Origin ef2b                              0   \n",
       "1599826        Smart TV     Origin ef2b                              0   \n",
       "1599827        Smart TV     Origin ef2b                              0   \n",
       "1599828          Tablet     Origin 3fcc                              0   \n",
       "\n",
       "         is_affliate_purchase  \n",
       "1                           1  \n",
       "2                           1  \n",
       "3                           0  \n",
       "4                           1  \n",
       "5                           1  \n",
       "...                       ...  \n",
       "1599824                     0  \n",
       "1599825                     0  \n",
       "1599826                     0  \n",
       "1599827                     0  \n",
       "1599828                     0  \n",
       "\n",
       "[1599828 rows x 15 columns]"
      ]
     },
     "execution_count": 33,
     "metadata": {},
     "output_type": "execute_result"
    }
   ],
   "source": [
    "df"
   ]
  },
  {
   "cell_type": "markdown",
   "id": "fcd1cae4",
   "metadata": {},
   "source": [
    "### Valor de compra fictício"
   ]
  },
  {
   "cell_type": "markdown",
   "id": "602e8547",
   "metadata": {},
   "source": [
    "O z-score pode ser utilizado em diversas ocasiões, como em aplicações de Aprendizado de Máquina, onde, muitas vezes, a standardização é desejável. Contudo, como o valor da compra, na coluna `purchase_value`, está 'escondido' no z-score, outras análises sobre esse conjunto de dados podem ser prejudicadas. Por isso, para critérios de demonstração, vamos assumir uma média e um desvio padrão para, a partir do z-score fornecido, criar valores fictícios de compra."
   ]
  },
  {
   "cell_type": "markdown",
   "id": "b81799f4",
   "metadata": {},
   "source": [
    "Para garantir que uma média e desvio padrão válidos sejam escolhidos, é necessário ver os valores máximos e mínimos do z-score para evitar gerar valores negativos (o que não seria possível de acontecer em uma compra)."
   ]
  },
  {
   "cell_type": "code",
   "execution_count": 34,
   "id": "625f633a",
   "metadata": {},
   "outputs": [],
   "source": [
    "# Setando visualização com 2 casas decimais\n",
    "pd.options.display.float_format = '{:,.2f}'.format"
   ]
  },
  {
   "cell_type": "code",
   "execution_count": 35,
   "id": "495cff9f",
   "metadata": {},
   "outputs": [
    {
     "data": {
      "text/plain": [
       "count   1,599,828.00\n",
       "mean            0.00\n",
       "std             1.00\n",
       "min            -0.54\n",
       "25%            -0.45\n",
       "50%            -0.35\n",
       "75%             0.06\n",
       "max           124.56\n",
       "Name: purchase_value, dtype: float64"
      ]
     },
     "execution_count": 35,
     "metadata": {},
     "output_type": "execute_result"
    }
   ],
   "source": [
    "df['purchase_value'].describe()"
   ]
  },
  {
   "cell_type": "markdown",
   "id": "25884396",
   "metadata": {},
   "source": [
    "Sendo $z$ definido pela equação:\n",
    "\n",
    "$$ z = \\frac{x - \\mu}{\\sigma} $$\n",
    "\n",
    "Onde $x$ é o valor original, $\\mu$ é a média e $\\sigma$ o desvio padrão. A fórmula reversa do z-score seria:\n",
    "\n",
    "$$ x = z + \\sigma \\times \\mu $$\n",
    "\n",
    "Sendo assim, vamos assumir uma média e desvio padrão fictício para criar os dados fictícios de valor de compra."
   ]
  },
  {
   "cell_type": "code",
   "execution_count": 36,
   "id": "f39f0e2b",
   "metadata": {},
   "outputs": [],
   "source": [
    "def reverse_zscore(z, mean, std):\n",
    "    '''\n",
    "    Reverte o zscore para o valor original,\n",
    "    dada a média e desvio padrão.\n",
    "    \n",
    "    Argumentos:\n",
    "    \n",
    "      z -- Pandas Series com os z-scores\n",
    "      mean -- média\n",
    "      std -- desvio padrão\n",
    "    \n",
    "    '''\n",
    "    x = z * std + mean\n",
    "    return x"
   ]
  },
  {
   "cell_type": "markdown",
   "id": "40f55482",
   "metadata": {},
   "source": [
    "Escolha de uma média e desvio padrão arbitrários, mas que não geram valores negativos para os valores de compra."
   ]
  },
  {
   "cell_type": "code",
   "execution_count": 37,
   "id": "f0e68aad",
   "metadata": {},
   "outputs": [],
   "source": [
    "# média\n",
    "new_mean = 100\n",
    "# desvio padrão\n",
    "new_std = 150"
   ]
  },
  {
   "cell_type": "markdown",
   "id": "c31ca684",
   "metadata": {},
   "source": [
    "Aplicação da função que 'reverte' o z-score."
   ]
  },
  {
   "cell_type": "code",
   "execution_count": 38,
   "id": "7ed33951",
   "metadata": {},
   "outputs": [],
   "source": [
    "df['new_purchase_value'] = reverse_zscore(df['purchase_value'], new_mean, new_std)"
   ]
  },
  {
   "cell_type": "markdown",
   "id": "5432a0d3",
   "metadata": {},
   "source": [
    "Nenhum valor fora da faixa de valores válidos."
   ]
  },
  {
   "cell_type": "code",
   "execution_count": 39,
   "id": "a36e0754",
   "metadata": {},
   "outputs": [
    {
     "data": {
      "text/plain": [
       "count   1,599,828.00\n",
       "mean          100.00\n",
       "std           150.00\n",
       "min            18.81\n",
       "25%            32.05\n",
       "50%            47.50\n",
       "75%           109.74\n",
       "max        18,784.15\n",
       "Name: new_purchase_value, dtype: float64"
      ]
     },
     "execution_count": 39,
     "metadata": {},
     "output_type": "execute_result"
    }
   ],
   "source": [
    "df['new_purchase_value'].describe()"
   ]
  },
  {
   "cell_type": "code",
   "execution_count": 40,
   "id": "2e9ebe12",
   "metadata": {},
   "outputs": [
    {
     "data": {
      "text/html": [
       "<div>\n",
       "<style scoped>\n",
       "    .dataframe tbody tr th:only-of-type {\n",
       "        vertical-align: middle;\n",
       "    }\n",
       "\n",
       "    .dataframe tbody tr th {\n",
       "        vertical-align: top;\n",
       "    }\n",
       "\n",
       "    .dataframe thead th {\n",
       "        text-align: right;\n",
       "    }\n",
       "</style>\n",
       "<table border=\"1\" class=\"dataframe\">\n",
       "  <thead>\n",
       "    <tr style=\"text-align: right;\">\n",
       "      <th></th>\n",
       "      <th>purchase_id</th>\n",
       "      <th>product_id</th>\n",
       "      <th>affiliate_id</th>\n",
       "      <th>producer_id</th>\n",
       "      <th>buyer_id</th>\n",
       "      <th>purchase_date</th>\n",
       "      <th>product_creation_date</th>\n",
       "      <th>product_category</th>\n",
       "      <th>product_niche</th>\n",
       "      <th>purchase_value</th>\n",
       "      <th>affiliate_commission_percentual</th>\n",
       "      <th>purchase_device</th>\n",
       "      <th>purchase_origin</th>\n",
       "      <th>is_origin_page_social_network</th>\n",
       "      <th>is_affliate_purchase</th>\n",
       "      <th>new_purchase_value</th>\n",
       "    </tr>\n",
       "  </thead>\n",
       "  <tbody>\n",
       "    <tr>\n",
       "      <th>1</th>\n",
       "      <td>1663958</td>\n",
       "      <td>6640</td>\n",
       "      <td>209372</td>\n",
       "      <td>116238</td>\n",
       "      <td>1200397</td>\n",
       "      <td>2016-06-26 12:00:00</td>\n",
       "      <td>2011-03-19 15:47:36</td>\n",
       "      <td>Video</td>\n",
       "      <td>Presentation skills</td>\n",
       "      <td>-0.27</td>\n",
       "      <td>50.00</td>\n",
       "      <td>Smart TV</td>\n",
       "      <td>Origin ef2b</td>\n",
       "      <td>0</td>\n",
       "      <td>1</td>\n",
       "      <td>60.20</td>\n",
       "    </tr>\n",
       "    <tr>\n",
       "      <th>2</th>\n",
       "      <td>1677087</td>\n",
       "      <td>2350</td>\n",
       "      <td>141418</td>\n",
       "      <td>2821</td>\n",
       "      <td>1083764</td>\n",
       "      <td>2016-06-26 12:00:00</td>\n",
       "      <td>2010-07-05 01:50:15</td>\n",
       "      <td>Podcast</td>\n",
       "      <td>Child psychology</td>\n",
       "      <td>-0.18</td>\n",
       "      <td>60.00</td>\n",
       "      <td>Smart TV</td>\n",
       "      <td>Origin ef2b</td>\n",
       "      <td>0</td>\n",
       "      <td>1</td>\n",
       "      <td>73.44</td>\n",
       "    </tr>\n",
       "    <tr>\n",
       "      <th>3</th>\n",
       "      <td>2017360</td>\n",
       "      <td>35669</td>\n",
       "      <td>618642</td>\n",
       "      <td>618642</td>\n",
       "      <td>1436106</td>\n",
       "      <td>2016-06-26 12:00:00</td>\n",
       "      <td>2012-06-13 02:59:37</td>\n",
       "      <td>Podcast</td>\n",
       "      <td>Presentation skills</td>\n",
       "      <td>-0.47</td>\n",
       "      <td>0.00</td>\n",
       "      <td>Smart TV</td>\n",
       "      <td>Origin ef2b</td>\n",
       "      <td>0</td>\n",
       "      <td>0</td>\n",
       "      <td>29.65</td>\n",
       "    </tr>\n",
       "    <tr>\n",
       "      <th>4</th>\n",
       "      <td>2017379</td>\n",
       "      <td>57998</td>\n",
       "      <td>1164511</td>\n",
       "      <td>70388</td>\n",
       "      <td>1436118</td>\n",
       "      <td>2016-06-26 12:00:00</td>\n",
       "      <td>2013-05-07 08:51:31</td>\n",
       "      <td>Podcast</td>\n",
       "      <td>Anxiety management</td>\n",
       "      <td>-0.40</td>\n",
       "      <td>50.00</td>\n",
       "      <td>Smart TV</td>\n",
       "      <td>Origin ef2b</td>\n",
       "      <td>0</td>\n",
       "      <td>1</td>\n",
       "      <td>39.82</td>\n",
       "    </tr>\n",
       "    <tr>\n",
       "      <th>5</th>\n",
       "      <td>2017382</td>\n",
       "      <td>58329</td>\n",
       "      <td>1261488</td>\n",
       "      <td>221253</td>\n",
       "      <td>1386357</td>\n",
       "      <td>2016-06-26 12:00:00</td>\n",
       "      <td>2013-05-12 08:12:06</td>\n",
       "      <td>Podcast</td>\n",
       "      <td>Teaching English</td>\n",
       "      <td>-0.45</td>\n",
       "      <td>50.00</td>\n",
       "      <td>Smart TV</td>\n",
       "      <td>Origin ef2b</td>\n",
       "      <td>0</td>\n",
       "      <td>1</td>\n",
       "      <td>32.13</td>\n",
       "    </tr>\n",
       "    <tr>\n",
       "      <th>...</th>\n",
       "      <td>...</td>\n",
       "      <td>...</td>\n",
       "      <td>...</td>\n",
       "      <td>...</td>\n",
       "      <td>...</td>\n",
       "      <td>...</td>\n",
       "      <td>...</td>\n",
       "      <td>...</td>\n",
       "      <td>...</td>\n",
       "      <td>...</td>\n",
       "      <td>...</td>\n",
       "      <td>...</td>\n",
       "      <td>...</td>\n",
       "      <td>...</td>\n",
       "      <td>...</td>\n",
       "      <td>...</td>\n",
       "    </tr>\n",
       "    <tr>\n",
       "      <th>1599824</th>\n",
       "      <td>14011995</td>\n",
       "      <td>238362</td>\n",
       "      <td>7586641</td>\n",
       "      <td>7586641</td>\n",
       "      <td>5736172</td>\n",
       "      <td>2016-06-30 23:59:57</td>\n",
       "      <td>2016-06-16 12:10:46</td>\n",
       "      <td>Phisical book</td>\n",
       "      <td>Personal finance</td>\n",
       "      <td>-0.35</td>\n",
       "      <td>0.00</td>\n",
       "      <td>eReaders</td>\n",
       "      <td>Origin 3022</td>\n",
       "      <td>0</td>\n",
       "      <td>0</td>\n",
       "      <td>48.20</td>\n",
       "    </tr>\n",
       "    <tr>\n",
       "      <th>1599825</th>\n",
       "      <td>14012431</td>\n",
       "      <td>61279</td>\n",
       "      <td>589022</td>\n",
       "      <td>589022</td>\n",
       "      <td>946067</td>\n",
       "      <td>2016-06-30 21:40:11</td>\n",
       "      <td>2013-06-15 16:41:06</td>\n",
       "      <td>Phisical book</td>\n",
       "      <td>Personal finance</td>\n",
       "      <td>-0.47</td>\n",
       "      <td>0.00</td>\n",
       "      <td>Smart TV</td>\n",
       "      <td>Origin ef2b</td>\n",
       "      <td>0</td>\n",
       "      <td>0</td>\n",
       "      <td>29.23</td>\n",
       "    </tr>\n",
       "    <tr>\n",
       "      <th>1599826</th>\n",
       "      <td>14343996</td>\n",
       "      <td>215242</td>\n",
       "      <td>1186145</td>\n",
       "      <td>1186145</td>\n",
       "      <td>6473172</td>\n",
       "      <td>2016-05-13 16:45:42</td>\n",
       "      <td>2016-03-26 17:59:47</td>\n",
       "      <td>Phisical book</td>\n",
       "      <td>Negotiation</td>\n",
       "      <td>-0.36</td>\n",
       "      <td>0.00</td>\n",
       "      <td>Smart TV</td>\n",
       "      <td>Origin ef2b</td>\n",
       "      <td>0</td>\n",
       "      <td>0</td>\n",
       "      <td>46.13</td>\n",
       "    </tr>\n",
       "    <tr>\n",
       "      <th>1599827</th>\n",
       "      <td>14344113</td>\n",
       "      <td>215242</td>\n",
       "      <td>1186145</td>\n",
       "      <td>1186145</td>\n",
       "      <td>6473172</td>\n",
       "      <td>2016-06-22 14:39:05</td>\n",
       "      <td>2016-03-26 17:59:47</td>\n",
       "      <td>Phisical book</td>\n",
       "      <td>Negotiation</td>\n",
       "      <td>-0.36</td>\n",
       "      <td>0.00</td>\n",
       "      <td>Smart TV</td>\n",
       "      <td>Origin ef2b</td>\n",
       "      <td>0</td>\n",
       "      <td>0</td>\n",
       "      <td>46.13</td>\n",
       "    </tr>\n",
       "    <tr>\n",
       "      <th>1599828</th>\n",
       "      <td>14357203</td>\n",
       "      <td>215242</td>\n",
       "      <td>1186145</td>\n",
       "      <td>1186145</td>\n",
       "      <td>6473172</td>\n",
       "      <td>2016-04-11 19:37:25</td>\n",
       "      <td>2016-03-26 17:59:47</td>\n",
       "      <td>Phisical book</td>\n",
       "      <td>Negotiation</td>\n",
       "      <td>-0.36</td>\n",
       "      <td>0.00</td>\n",
       "      <td>Tablet</td>\n",
       "      <td>Origin 3fcc</td>\n",
       "      <td>0</td>\n",
       "      <td>0</td>\n",
       "      <td>46.13</td>\n",
       "    </tr>\n",
       "  </tbody>\n",
       "</table>\n",
       "<p>1599828 rows × 16 columns</p>\n",
       "</div>"
      ],
      "text/plain": [
       "        purchase_id product_id affiliate_id producer_id buyer_id  \\\n",
       "1           1663958       6640       209372      116238  1200397   \n",
       "2           1677087       2350       141418        2821  1083764   \n",
       "3           2017360      35669       618642      618642  1436106   \n",
       "4           2017379      57998      1164511       70388  1436118   \n",
       "5           2017382      58329      1261488      221253  1386357   \n",
       "...             ...        ...          ...         ...      ...   \n",
       "1599824    14011995     238362      7586641     7586641  5736172   \n",
       "1599825    14012431      61279       589022      589022   946067   \n",
       "1599826    14343996     215242      1186145     1186145  6473172   \n",
       "1599827    14344113     215242      1186145     1186145  6473172   \n",
       "1599828    14357203     215242      1186145     1186145  6473172   \n",
       "\n",
       "              purchase_date product_creation_date product_category  \\\n",
       "1       2016-06-26 12:00:00   2011-03-19 15:47:36            Video   \n",
       "2       2016-06-26 12:00:00   2010-07-05 01:50:15          Podcast   \n",
       "3       2016-06-26 12:00:00   2012-06-13 02:59:37          Podcast   \n",
       "4       2016-06-26 12:00:00   2013-05-07 08:51:31          Podcast   \n",
       "5       2016-06-26 12:00:00   2013-05-12 08:12:06          Podcast   \n",
       "...                     ...                   ...              ...   \n",
       "1599824 2016-06-30 23:59:57   2016-06-16 12:10:46    Phisical book   \n",
       "1599825 2016-06-30 21:40:11   2013-06-15 16:41:06    Phisical book   \n",
       "1599826 2016-05-13 16:45:42   2016-03-26 17:59:47    Phisical book   \n",
       "1599827 2016-06-22 14:39:05   2016-03-26 17:59:47    Phisical book   \n",
       "1599828 2016-04-11 19:37:25   2016-03-26 17:59:47    Phisical book   \n",
       "\n",
       "               product_niche  purchase_value  affiliate_commission_percentual  \\\n",
       "1        Presentation skills           -0.27                            50.00   \n",
       "2           Child psychology           -0.18                            60.00   \n",
       "3        Presentation skills           -0.47                             0.00   \n",
       "4         Anxiety management           -0.40                            50.00   \n",
       "5           Teaching English           -0.45                            50.00   \n",
       "...                      ...             ...                              ...   \n",
       "1599824     Personal finance           -0.35                             0.00   \n",
       "1599825     Personal finance           -0.47                             0.00   \n",
       "1599826          Negotiation           -0.36                             0.00   \n",
       "1599827          Negotiation           -0.36                             0.00   \n",
       "1599828          Negotiation           -0.36                             0.00   \n",
       "\n",
       "        purchase_device purchase_origin  is_origin_page_social_network  \\\n",
       "1              Smart TV     Origin ef2b                              0   \n",
       "2              Smart TV     Origin ef2b                              0   \n",
       "3              Smart TV     Origin ef2b                              0   \n",
       "4              Smart TV     Origin ef2b                              0   \n",
       "5              Smart TV     Origin ef2b                              0   \n",
       "...                 ...             ...                            ...   \n",
       "1599824        eReaders     Origin 3022                              0   \n",
       "1599825        Smart TV     Origin ef2b                              0   \n",
       "1599826        Smart TV     Origin ef2b                              0   \n",
       "1599827        Smart TV     Origin ef2b                              0   \n",
       "1599828          Tablet     Origin 3fcc                              0   \n",
       "\n",
       "         is_affliate_purchase  new_purchase_value  \n",
       "1                           1               60.20  \n",
       "2                           1               73.44  \n",
       "3                           0               29.65  \n",
       "4                           1               39.82  \n",
       "5                           1               32.13  \n",
       "...                       ...                 ...  \n",
       "1599824                     0               48.20  \n",
       "1599825                     0               29.23  \n",
       "1599826                     0               46.13  \n",
       "1599827                     0               46.13  \n",
       "1599828                     0               46.13  \n",
       "\n",
       "[1599828 rows x 16 columns]"
      ]
     },
     "execution_count": 40,
     "metadata": {},
     "output_type": "execute_result"
    }
   ],
   "source": [
    "df"
   ]
  },
  {
   "cell_type": "markdown",
   "id": "99f20c2d",
   "metadata": {},
   "source": [
    "## Salvamento do _data set_"
   ]
  },
  {
   "cell_type": "markdown",
   "id": "6f9a4eea",
   "metadata": {},
   "source": [
    "Após essa etapa de pré-processamento, o conjunto de dados pode  ser salvo novamente."
   ]
  },
  {
   "cell_type": "code",
   "execution_count": 41,
   "id": "dba33f9e",
   "metadata": {},
   "outputs": [],
   "source": [
    "df.to_parquet('../data/preprocessed/sales_data.parquet')"
   ]
  },
  {
   "cell_type": "markdown",
   "id": "90c4b2e0",
   "metadata": {},
   "source": [
    "Conferindo se o parquet ficou com os tipos corretos."
   ]
  },
  {
   "cell_type": "code",
   "execution_count": 42,
   "id": "cbb5a63a",
   "metadata": {},
   "outputs": [
    {
     "data": {
      "text/html": [
       "<div>\n",
       "<style scoped>\n",
       "    .dataframe tbody tr th:only-of-type {\n",
       "        vertical-align: middle;\n",
       "    }\n",
       "\n",
       "    .dataframe tbody tr th {\n",
       "        vertical-align: top;\n",
       "    }\n",
       "\n",
       "    .dataframe thead th {\n",
       "        text-align: right;\n",
       "    }\n",
       "</style>\n",
       "<table border=\"1\" class=\"dataframe\">\n",
       "  <thead>\n",
       "    <tr style=\"text-align: right;\">\n",
       "      <th></th>\n",
       "      <th>purchase_id</th>\n",
       "      <th>product_id</th>\n",
       "      <th>affiliate_id</th>\n",
       "      <th>producer_id</th>\n",
       "      <th>buyer_id</th>\n",
       "      <th>purchase_date</th>\n",
       "      <th>product_creation_date</th>\n",
       "      <th>product_category</th>\n",
       "      <th>product_niche</th>\n",
       "      <th>purchase_value</th>\n",
       "      <th>affiliate_commission_percentual</th>\n",
       "      <th>purchase_device</th>\n",
       "      <th>purchase_origin</th>\n",
       "      <th>is_origin_page_social_network</th>\n",
       "      <th>is_affliate_purchase</th>\n",
       "      <th>new_purchase_value</th>\n",
       "    </tr>\n",
       "  </thead>\n",
       "  <tbody>\n",
       "    <tr>\n",
       "      <th>1</th>\n",
       "      <td>1663958</td>\n",
       "      <td>6640</td>\n",
       "      <td>209372</td>\n",
       "      <td>116238</td>\n",
       "      <td>1200397</td>\n",
       "      <td>2016-06-26 12:00:00</td>\n",
       "      <td>2011-03-19 15:47:36</td>\n",
       "      <td>Video</td>\n",
       "      <td>Presentation skills</td>\n",
       "      <td>-0.27</td>\n",
       "      <td>50.00</td>\n",
       "      <td>Smart TV</td>\n",
       "      <td>Origin ef2b</td>\n",
       "      <td>0</td>\n",
       "      <td>1</td>\n",
       "      <td>60.20</td>\n",
       "    </tr>\n",
       "    <tr>\n",
       "      <th>2</th>\n",
       "      <td>1677087</td>\n",
       "      <td>2350</td>\n",
       "      <td>141418</td>\n",
       "      <td>2821</td>\n",
       "      <td>1083764</td>\n",
       "      <td>2016-06-26 12:00:00</td>\n",
       "      <td>2010-07-05 01:50:15</td>\n",
       "      <td>Podcast</td>\n",
       "      <td>Child psychology</td>\n",
       "      <td>-0.18</td>\n",
       "      <td>60.00</td>\n",
       "      <td>Smart TV</td>\n",
       "      <td>Origin ef2b</td>\n",
       "      <td>0</td>\n",
       "      <td>1</td>\n",
       "      <td>73.44</td>\n",
       "    </tr>\n",
       "    <tr>\n",
       "      <th>3</th>\n",
       "      <td>2017360</td>\n",
       "      <td>35669</td>\n",
       "      <td>618642</td>\n",
       "      <td>618642</td>\n",
       "      <td>1436106</td>\n",
       "      <td>2016-06-26 12:00:00</td>\n",
       "      <td>2012-06-13 02:59:37</td>\n",
       "      <td>Podcast</td>\n",
       "      <td>Presentation skills</td>\n",
       "      <td>-0.47</td>\n",
       "      <td>0.00</td>\n",
       "      <td>Smart TV</td>\n",
       "      <td>Origin ef2b</td>\n",
       "      <td>0</td>\n",
       "      <td>0</td>\n",
       "      <td>29.65</td>\n",
       "    </tr>\n",
       "    <tr>\n",
       "      <th>4</th>\n",
       "      <td>2017379</td>\n",
       "      <td>57998</td>\n",
       "      <td>1164511</td>\n",
       "      <td>70388</td>\n",
       "      <td>1436118</td>\n",
       "      <td>2016-06-26 12:00:00</td>\n",
       "      <td>2013-05-07 08:51:31</td>\n",
       "      <td>Podcast</td>\n",
       "      <td>Anxiety management</td>\n",
       "      <td>-0.40</td>\n",
       "      <td>50.00</td>\n",
       "      <td>Smart TV</td>\n",
       "      <td>Origin ef2b</td>\n",
       "      <td>0</td>\n",
       "      <td>1</td>\n",
       "      <td>39.82</td>\n",
       "    </tr>\n",
       "    <tr>\n",
       "      <th>5</th>\n",
       "      <td>2017382</td>\n",
       "      <td>58329</td>\n",
       "      <td>1261488</td>\n",
       "      <td>221253</td>\n",
       "      <td>1386357</td>\n",
       "      <td>2016-06-26 12:00:00</td>\n",
       "      <td>2013-05-12 08:12:06</td>\n",
       "      <td>Podcast</td>\n",
       "      <td>Teaching English</td>\n",
       "      <td>-0.45</td>\n",
       "      <td>50.00</td>\n",
       "      <td>Smart TV</td>\n",
       "      <td>Origin ef2b</td>\n",
       "      <td>0</td>\n",
       "      <td>1</td>\n",
       "      <td>32.13</td>\n",
       "    </tr>\n",
       "    <tr>\n",
       "      <th>...</th>\n",
       "      <td>...</td>\n",
       "      <td>...</td>\n",
       "      <td>...</td>\n",
       "      <td>...</td>\n",
       "      <td>...</td>\n",
       "      <td>...</td>\n",
       "      <td>...</td>\n",
       "      <td>...</td>\n",
       "      <td>...</td>\n",
       "      <td>...</td>\n",
       "      <td>...</td>\n",
       "      <td>...</td>\n",
       "      <td>...</td>\n",
       "      <td>...</td>\n",
       "      <td>...</td>\n",
       "      <td>...</td>\n",
       "    </tr>\n",
       "    <tr>\n",
       "      <th>1599824</th>\n",
       "      <td>14011995</td>\n",
       "      <td>238362</td>\n",
       "      <td>7586641</td>\n",
       "      <td>7586641</td>\n",
       "      <td>5736172</td>\n",
       "      <td>2016-06-30 23:59:57</td>\n",
       "      <td>2016-06-16 12:10:46</td>\n",
       "      <td>Phisical book</td>\n",
       "      <td>Personal finance</td>\n",
       "      <td>-0.35</td>\n",
       "      <td>0.00</td>\n",
       "      <td>eReaders</td>\n",
       "      <td>Origin 3022</td>\n",
       "      <td>0</td>\n",
       "      <td>0</td>\n",
       "      <td>48.20</td>\n",
       "    </tr>\n",
       "    <tr>\n",
       "      <th>1599825</th>\n",
       "      <td>14012431</td>\n",
       "      <td>61279</td>\n",
       "      <td>589022</td>\n",
       "      <td>589022</td>\n",
       "      <td>946067</td>\n",
       "      <td>2016-06-30 21:40:11</td>\n",
       "      <td>2013-06-15 16:41:06</td>\n",
       "      <td>Phisical book</td>\n",
       "      <td>Personal finance</td>\n",
       "      <td>-0.47</td>\n",
       "      <td>0.00</td>\n",
       "      <td>Smart TV</td>\n",
       "      <td>Origin ef2b</td>\n",
       "      <td>0</td>\n",
       "      <td>0</td>\n",
       "      <td>29.23</td>\n",
       "    </tr>\n",
       "    <tr>\n",
       "      <th>1599826</th>\n",
       "      <td>14343996</td>\n",
       "      <td>215242</td>\n",
       "      <td>1186145</td>\n",
       "      <td>1186145</td>\n",
       "      <td>6473172</td>\n",
       "      <td>2016-05-13 16:45:42</td>\n",
       "      <td>2016-03-26 17:59:47</td>\n",
       "      <td>Phisical book</td>\n",
       "      <td>Negotiation</td>\n",
       "      <td>-0.36</td>\n",
       "      <td>0.00</td>\n",
       "      <td>Smart TV</td>\n",
       "      <td>Origin ef2b</td>\n",
       "      <td>0</td>\n",
       "      <td>0</td>\n",
       "      <td>46.13</td>\n",
       "    </tr>\n",
       "    <tr>\n",
       "      <th>1599827</th>\n",
       "      <td>14344113</td>\n",
       "      <td>215242</td>\n",
       "      <td>1186145</td>\n",
       "      <td>1186145</td>\n",
       "      <td>6473172</td>\n",
       "      <td>2016-06-22 14:39:05</td>\n",
       "      <td>2016-03-26 17:59:47</td>\n",
       "      <td>Phisical book</td>\n",
       "      <td>Negotiation</td>\n",
       "      <td>-0.36</td>\n",
       "      <td>0.00</td>\n",
       "      <td>Smart TV</td>\n",
       "      <td>Origin ef2b</td>\n",
       "      <td>0</td>\n",
       "      <td>0</td>\n",
       "      <td>46.13</td>\n",
       "    </tr>\n",
       "    <tr>\n",
       "      <th>1599828</th>\n",
       "      <td>14357203</td>\n",
       "      <td>215242</td>\n",
       "      <td>1186145</td>\n",
       "      <td>1186145</td>\n",
       "      <td>6473172</td>\n",
       "      <td>2016-04-11 19:37:25</td>\n",
       "      <td>2016-03-26 17:59:47</td>\n",
       "      <td>Phisical book</td>\n",
       "      <td>Negotiation</td>\n",
       "      <td>-0.36</td>\n",
       "      <td>0.00</td>\n",
       "      <td>Tablet</td>\n",
       "      <td>Origin 3fcc</td>\n",
       "      <td>0</td>\n",
       "      <td>0</td>\n",
       "      <td>46.13</td>\n",
       "    </tr>\n",
       "  </tbody>\n",
       "</table>\n",
       "<p>1599828 rows × 16 columns</p>\n",
       "</div>"
      ],
      "text/plain": [
       "        purchase_id product_id affiliate_id producer_id buyer_id  \\\n",
       "1           1663958       6640       209372      116238  1200397   \n",
       "2           1677087       2350       141418        2821  1083764   \n",
       "3           2017360      35669       618642      618642  1436106   \n",
       "4           2017379      57998      1164511       70388  1436118   \n",
       "5           2017382      58329      1261488      221253  1386357   \n",
       "...             ...        ...          ...         ...      ...   \n",
       "1599824    14011995     238362      7586641     7586641  5736172   \n",
       "1599825    14012431      61279       589022      589022   946067   \n",
       "1599826    14343996     215242      1186145     1186145  6473172   \n",
       "1599827    14344113     215242      1186145     1186145  6473172   \n",
       "1599828    14357203     215242      1186145     1186145  6473172   \n",
       "\n",
       "              purchase_date product_creation_date product_category  \\\n",
       "1       2016-06-26 12:00:00   2011-03-19 15:47:36            Video   \n",
       "2       2016-06-26 12:00:00   2010-07-05 01:50:15          Podcast   \n",
       "3       2016-06-26 12:00:00   2012-06-13 02:59:37          Podcast   \n",
       "4       2016-06-26 12:00:00   2013-05-07 08:51:31          Podcast   \n",
       "5       2016-06-26 12:00:00   2013-05-12 08:12:06          Podcast   \n",
       "...                     ...                   ...              ...   \n",
       "1599824 2016-06-30 23:59:57   2016-06-16 12:10:46    Phisical book   \n",
       "1599825 2016-06-30 21:40:11   2013-06-15 16:41:06    Phisical book   \n",
       "1599826 2016-05-13 16:45:42   2016-03-26 17:59:47    Phisical book   \n",
       "1599827 2016-06-22 14:39:05   2016-03-26 17:59:47    Phisical book   \n",
       "1599828 2016-04-11 19:37:25   2016-03-26 17:59:47    Phisical book   \n",
       "\n",
       "               product_niche  purchase_value  affiliate_commission_percentual  \\\n",
       "1        Presentation skills           -0.27                            50.00   \n",
       "2           Child psychology           -0.18                            60.00   \n",
       "3        Presentation skills           -0.47                             0.00   \n",
       "4         Anxiety management           -0.40                            50.00   \n",
       "5           Teaching English           -0.45                            50.00   \n",
       "...                      ...             ...                              ...   \n",
       "1599824     Personal finance           -0.35                             0.00   \n",
       "1599825     Personal finance           -0.47                             0.00   \n",
       "1599826          Negotiation           -0.36                             0.00   \n",
       "1599827          Negotiation           -0.36                             0.00   \n",
       "1599828          Negotiation           -0.36                             0.00   \n",
       "\n",
       "        purchase_device purchase_origin  is_origin_page_social_network  \\\n",
       "1              Smart TV     Origin ef2b                              0   \n",
       "2              Smart TV     Origin ef2b                              0   \n",
       "3              Smart TV     Origin ef2b                              0   \n",
       "4              Smart TV     Origin ef2b                              0   \n",
       "5              Smart TV     Origin ef2b                              0   \n",
       "...                 ...             ...                            ...   \n",
       "1599824        eReaders     Origin 3022                              0   \n",
       "1599825        Smart TV     Origin ef2b                              0   \n",
       "1599826        Smart TV     Origin ef2b                              0   \n",
       "1599827        Smart TV     Origin ef2b                              0   \n",
       "1599828          Tablet     Origin 3fcc                              0   \n",
       "\n",
       "         is_affliate_purchase  new_purchase_value  \n",
       "1                           1               60.20  \n",
       "2                           1               73.44  \n",
       "3                           0               29.65  \n",
       "4                           1               39.82  \n",
       "5                           1               32.13  \n",
       "...                       ...                 ...  \n",
       "1599824                     0               48.20  \n",
       "1599825                     0               29.23  \n",
       "1599826                     0               46.13  \n",
       "1599827                     0               46.13  \n",
       "1599828                     0               46.13  \n",
       "\n",
       "[1599828 rows x 16 columns]"
      ]
     },
     "execution_count": 42,
     "metadata": {},
     "output_type": "execute_result"
    }
   ],
   "source": [
    "df = pd.read_parquet('../data/preprocessed/sales_data.parquet')\n",
    "df"
   ]
  },
  {
   "cell_type": "code",
   "execution_count": 43,
   "id": "b27f03c6",
   "metadata": {},
   "outputs": [
    {
     "data": {
      "text/plain": [
       "purchase_id                                object\n",
       "product_id                                 object\n",
       "affiliate_id                               object\n",
       "producer_id                                object\n",
       "buyer_id                                   object\n",
       "purchase_date                      datetime64[ns]\n",
       "product_creation_date              datetime64[ns]\n",
       "product_category                           object\n",
       "product_niche                              object\n",
       "purchase_value                            float64\n",
       "affiliate_commission_percentual           float64\n",
       "purchase_device                            object\n",
       "purchase_origin                            object\n",
       "is_origin_page_social_network               int64\n",
       "is_affliate_purchase                        int64\n",
       "new_purchase_value                        float64\n",
       "dtype: object"
      ]
     },
     "execution_count": 43,
     "metadata": {},
     "output_type": "execute_result"
    }
   ],
   "source": [
    "df.dtypes"
   ]
  }
 ],
 "metadata": {
  "kernelspec": {
   "display_name": "Python 3",
   "language": "python",
   "name": "python3"
  },
  "language_info": {
   "codemirror_mode": {
    "name": "ipython",
    "version": 3
   },
   "file_extension": ".py",
   "mimetype": "text/x-python",
   "name": "python",
   "nbconvert_exporter": "python",
   "pygments_lexer": "ipython3",
   "version": "3.8.5"
  },
  "toc": {
   "base_numbering": 1,
   "nav_menu": {},
   "number_sections": true,
   "sideBar": true,
   "skip_h1_title": false,
   "title_cell": "Table of Contents",
   "title_sidebar": "Contents",
   "toc_cell": false,
   "toc_position": {
    "height": "calc(100% - 180px)",
    "left": "10px",
    "top": "150px",
    "width": "369.6px"
   },
   "toc_section_display": true,
   "toc_window_display": true
  }
 },
 "nbformat": 4,
 "nbformat_minor": 5
}
